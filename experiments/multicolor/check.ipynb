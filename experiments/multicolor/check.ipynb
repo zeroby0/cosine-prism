{
 "cells": [
  {
   "cell_type": "code",
   "execution_count": 1,
   "metadata": {},
   "outputs": [],
   "source": [
    "import numpy as np"
   ]
  },
  {
   "cell_type": "code",
   "execution_count": 2,
   "metadata": {},
   "outputs": [],
   "source": [
    "def lsrgb_to_oklab_old(r, g, b):\n",
    "\n",
    "    l = np.cbrt(0.4122214708 * r + 0.5363325363 * g + 0.0514459929 * b)\n",
    "    m = np.cbrt(0.2119034982 * r + 0.6806995451 * g + 0.1073969566 * b)\n",
    "    s = np.cbrt(0.0883024619 * r + 0.2817188376 * g + 0.6299787005 * b)\n",
    "\n",
    "    # return (l, m, s)\n",
    "\n",
    "    l_ = 0.2104542553 * l + 0.7936177850 * m - 0.0040720468 * s\n",
    "    m_ = 1.9779984951 * l - 2.4285922050 * m + 0.4505937099 * s\n",
    "    s_ = 0.0259040371 * l + 0.7827717662 * m - 0.8086757660 * s\n",
    "\n",
    "    return (l_, m_, s_)\n",
    "\n",
    "def lsrgb_to_oklab(r, g, b):\n",
    "    rgb = np.zeros((r.size, 3))\n",
    "\n",
    "    rgb[:, 0] = r.ravel()\n",
    "    rgb[:, 1] = g.ravel()\n",
    "    rgb[:, 2] = b.ravel()\n",
    "\n",
    "    m1 = np.matrix([\n",
    "        [0.4122214708, 0.5363325363, 0.0514459929],\n",
    "        [0.2119034982, 0.6806995451, 0.1073969566],\n",
    "        [0.0883024619, 0.2817188376, 0.6299787005],\n",
    "    ])\n",
    "\n",
    "    lms = np.inner(m1, rgb).T\n",
    "\n",
    "    lms = np.cbrt(lms)\n",
    "\n",
    "    m2 = np.matrix([\n",
    "        [0.2104542553, +0.7936177850, -0.0040720468],\n",
    "        [1.9779984951, -2.4285922050, +0.4505937099],\n",
    "        [0.0259040371, +0.7827717662, -0.8086757660],\n",
    "    ])\n",
    "\n",
    "    lms_ = np.inner(m2, lms).T\n",
    "\n",
    "    l_ = lms_[:, 0].reshape(r.shape)\n",
    "    m_ = lms_[:, 1].reshape(r.shape)\n",
    "    s_ = lms_[:, 2].reshape(r.shape)\n",
    "\n",
    "    return (l_, m_, s_)"
   ]
  },
  {
   "cell_type": "code",
   "execution_count": 3,
   "metadata": {},
   "outputs": [],
   "source": [
    "r = np.array([10, 50])\n",
    "g = np.array([20, 60])\n",
    "b = np.array([30, 70])"
   ]
  },
  {
   "cell_type": "code",
   "execution_count": 4,
   "metadata": {},
   "outputs": [
    {
     "data": {
      "text/plain": [
       "(array([2.63865299, 3.87940142]),\n",
       " array([-0.12586111, -0.05133782]),\n",
       " array([-0.22474958, -0.11251011]))"
      ]
     },
     "execution_count": 4,
     "metadata": {},
     "output_type": "execute_result"
    }
   ],
   "source": [
    "lsrgb_to_oklab_old(r, g, b)"
   ]
  },
  {
   "cell_type": "code",
   "execution_count": 5,
   "metadata": {},
   "outputs": [
    {
     "data": {
      "text/plain": [
       "(matrix([[2.63865299, 3.87940142]]),\n",
       " matrix([[-0.12586111, -0.05133782]]),\n",
       " matrix([[-0.22474958, -0.11251011]]))"
      ]
     },
     "execution_count": 5,
     "metadata": {},
     "output_type": "execute_result"
    }
   ],
   "source": [
    "lsrgb_to_oklab(r, g, b)"
   ]
  },
  {
   "cell_type": "code",
   "execution_count": null,
   "metadata": {},
   "outputs": [],
   "source": []
  }
 ],
 "metadata": {
  "kernelspec": {
   "display_name": "kitchensink",
   "language": "python",
   "name": "python3"
  },
  "language_info": {
   "codemirror_mode": {
    "name": "ipython",
    "version": 3
   },
   "file_extension": ".py",
   "mimetype": "text/x-python",
   "name": "python",
   "nbconvert_exporter": "python",
   "pygments_lexer": "ipython3",
   "version": "3.10.8"
  },
  "orig_nbformat": 4,
  "vscode": {
   "interpreter": {
    "hash": "819d2b5ed41cc2fe1270abeefe3e445ccd6d159a3be5412e6db9c2a5efad0c24"
   }
  }
 },
 "nbformat": 4,
 "nbformat_minor": 2
}
