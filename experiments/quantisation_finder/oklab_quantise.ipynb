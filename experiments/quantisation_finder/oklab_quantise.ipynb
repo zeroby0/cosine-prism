{
 "cells": [
  {
   "cell_type": "code",
   "execution_count": 17,
   "metadata": {},
   "outputs": [],
   "source": [
    "import numpy as np\n",
    "\n",
    "from PIL import Image\n",
    "\n",
    "from scipy.fft import dctn, idctn\n",
    "from matplotlib import pyplot as plt\n",
    "from matplotlib import pylab as pylab\n",
    "\n",
    "import oklab\n",
    "from dqt import *\n",
    "\n",
    "%matplotlib inline\n",
    "pylab.rcParams['figure.figsize'] = (12, 12)"
   ]
  },
  {
   "cell_type": "code",
   "execution_count": 18,
   "metadata": {},
   "outputs": [],
   "source": [
    "\n",
    "def im_rgb_to_oklab(im_r, im_g, im_b):\n",
    "    im_r = np.asarray(im_r)\n",
    "    im_g = np.asarray(im_g)\n",
    "    im_b = np.asarray(im_b)\n",
    "\n",
    "    l, m, s = oklab.lsrgb_to_oklab(im_r, im_g, im_b)\n",
    "\n",
    "    l = l - oklab.l_min\n",
    "    m = m - oklab.m_min\n",
    "    s = s - oklab.s_min\n",
    "\n",
    "    return (l, m, s)\n",
    "\n",
    "def im_oklab_to_rgb(im_l, im_m, im_s):\n",
    "    l = np.asarray(im_l)\n",
    "    m = np.asarray(im_m)\n",
    "    s = np.asarray(im_s)\n",
    "\n",
    "    l = l + oklab.l_min\n",
    "    m = m + oklab.m_min\n",
    "    s = s + oklab.s_min\n",
    "\n",
    "    r, g, b = oklab.oklab_to_lsrgb(l, m, s)\n",
    "\n",
    "    return (r, g, b)\n",
    "\n",
    "r, g, b = Image.open('../../images/coral/coral-1024.png').convert('RGB').split()\n",
    "\n",
    "l, m, s = im_rgb_to_oklab(r, g, b)\n"
   ]
  },
  {
   "cell_type": "code",
   "execution_count": 20,
   "metadata": {},
   "outputs": [],
   "source": [
    "dqt_90_dct_lum = np.array([\n",
    "     3,   2,   2,   3,   5,   8,  10,  12,\n",
    "     2,   2,   3,   4,   5,  12,  12,  11,\n",
    "     3,   3,   3,   5,   8,  11,  14,  11,\n",
    "     3,   3,   4,   6,  10,  17,  16,  12,\n",
    "     4,   4,   7,  11,  14,  22,  21,  15,\n",
    "     5,   7,  11,  13,  16,  12,  23,  18,\n",
    "    10,  13,  16,  17,  21,  24,  24,  21,\n",
    "    14,  18,  19,  20,  22,  20,  20,  20,\n",
    "], dtype=np.float64)\n",
    "\n",
    "dqt_90_dct_oklab_l = dqt_90_dct_lum * oklab.l_range/255\n",
    "dqt_90_dct_oklab_m = dqt_90_dct_lum * oklab.m_range/255\n",
    "dqt_90_dct_oklab_s = dqt_90_dct_lum * oklab.s_range/255"
   ]
  },
  {
   "cell_type": "code",
   "execution_count": null,
   "metadata": {},
   "outputs": [],
   "source": []
  },
  {
   "cell_type": "code",
   "execution_count": 32,
   "metadata": {},
   "outputs": [
    {
     "data": {
      "text/plain": [
       "6.317172848133411"
      ]
     },
     "execution_count": 32,
     "metadata": {},
     "output_type": "execute_result"
    }
   ],
   "source": [
    "\n",
    "(np.rint(l / dqt_90_dct_oklab_s[0]) * dqt_90_dct_oklab_s[0]).max()"
   ]
  },
  {
   "cell_type": "code",
   "execution_count": 33,
   "metadata": {},
   "outputs": [
    {
     "data": {
      "text/plain": [
       "6.327777947107102"
      ]
     },
     "execution_count": 33,
     "metadata": {},
     "output_type": "execute_result"
    }
   ],
   "source": [
    "l.max()"
   ]
  },
  {
   "cell_type": "code",
   "execution_count": null,
   "metadata": {},
   "outputs": [],
   "source": []
  }
 ],
 "metadata": {
  "kernelspec": {
   "display_name": "kitchensink",
   "language": "python",
   "name": "python3"
  },
  "language_info": {
   "codemirror_mode": {
    "name": "ipython",
    "version": 3
   },
   "file_extension": ".py",
   "mimetype": "text/x-python",
   "name": "python",
   "nbconvert_exporter": "python",
   "pygments_lexer": "ipython3",
   "version": "3.10.8"
  },
  "orig_nbformat": 4,
  "vscode": {
   "interpreter": {
    "hash": "819d2b5ed41cc2fe1270abeefe3e445ccd6d159a3be5412e6db9c2a5efad0c24"
   }
  }
 },
 "nbformat": 4,
 "nbformat_minor": 2
}
