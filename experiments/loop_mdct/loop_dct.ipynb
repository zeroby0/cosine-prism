{
 "cells": [
  {
   "cell_type": "code",
   "execution_count": null,
   "metadata": {},
   "outputs": [],
   "source": [
    "import numpy as np"
   ]
  },
  {
   "cell_type": "code",
   "execution_count": null,
   "metadata": {},
   "outputs": [],
   "source": [
    "def dct(x):\n",
    "    npx = np.asarray(x, dtype=np.float64)\n",
    "\n",
    "    N = int(npx.shape[0])\n",
    "\n",
    "    X = np.zeros_like(npx)\n",
    "\n",
    "    for k in range(N):\n",
    "        sigma = 0\n",
    "        for n in range(N):\n",
    "            sigma += npx[n] * np.cos((np.pi/N) * (n + 0.5) * (k + 0.5))\n",
    "        \n",
    "        X[k] = sigma * np.sqrt(2/N)\n",
    "    \n",
    "    return X"
   ]
  },
  {
   "cell_type": "code",
   "execution_count": null,
   "metadata": {},
   "outputs": [],
   "source": [
    "x = np.arange(36)\n",
    "\n",
    "y = dct(x)\n",
    "z = dct(y)\n",
    "\n",
    "print(x, y, z)"
   ]
  }
 ],
 "metadata": {
  "kernelspec": {
   "display_name": "kitchensink",
   "language": "python",
   "name": "python3"
  },
  "language_info": {
   "codemirror_mode": {
    "name": "ipython",
    "version": 3
   },
   "file_extension": ".py",
   "mimetype": "text/x-python",
   "name": "python",
   "nbconvert_exporter": "python",
   "pygments_lexer": "ipython3",
   "version": "3.10.8"
  },
  "orig_nbformat": 4,
  "vscode": {
   "interpreter": {
    "hash": "819d2b5ed41cc2fe1270abeefe3e445ccd6d159a3be5412e6db9c2a5efad0c24"
   }
  }
 },
 "nbformat": 4,
 "nbformat_minor": 2
}
