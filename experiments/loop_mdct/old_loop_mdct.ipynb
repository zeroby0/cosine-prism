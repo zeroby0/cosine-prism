{
 "cells": [
  {
   "cell_type": "code",
   "execution_count": 5,
   "metadata": {},
   "outputs": [],
   "source": [
    "import numpy as np\n",
    "\n",
    "def mdct(x, N=16):\n",
    "    if N % 4 != 0:\n",
    "        raise ValueError(\"N is not a multiple of 4\")\n",
    "\n",
    "    N2 = N // 2\n",
    "    N4 = N // 4\n",
    "\n",
    "    npx = np.asarray(x)\n",
    "\n",
    "    if npx.shape[0] % N2 != 0:\n",
    "        raise ValueError(\"Input array's length is not a multiple of half window length\")\n",
    "\n",
    "    y = np.zeros_like(npx, dtype=np.float64)\n",
    "\n",
    "    npxp = np.hstack([np.zeros(N4), npx, np.zeros(N4)])  \n",
    "\n",
    "    for i in np.r_[:npxp.shape[0]-N2:8]:\n",
    "        X = npxp[i: i+N]\n",
    "        Y = np.zeros(N2, dtype=np.float64)\n",
    "\n",
    "        for k in range(N2):\n",
    "            sigma = 0\n",
    "            for n in range(N):\n",
    "                sigma += X[n] * np.cos((np.pi/N2) * (n + 0.5 + N4) * (k + 0.5))\n",
    "        \n",
    "            Y[k] = sigma\n",
    "        \n",
    "        y[i:i+N2] = Y\n",
    "    \n",
    "    return y\n",
    "\n",
    "\n",
    "# def imdct(y, N=16):\n",
    "#     if N % 4 != 0:\n",
    "#         raise ValueError(\"N is not a multiple of 4\")\n",
    "\n",
    "#     N2 = N // 2\n",
    "#     N4 = N // 4\n",
    "\n",
    "#     npy = np.asarray(y)\n",
    "\n",
    "#     if npy.shape[0] % N2 != 0:\n",
    "#         raise ValueError(\"Input array's length is not a multiple of half window length\")\n",
    "\n",
    "#     x = np.zeros_like(npy, dtype=np.float64)\n",
    "\n",
    "#     npyp = npy\n",
    "\n",
    "#     for i in np.r_[:npy.shape[0]:8]:\n",
    "#         Y = npy[i: i+N2]\n",
    "#         X = np.zeros(N, dtype=np.float64)\n",
    "\n",
    "#         for n in range(N):\n",
    "#             sigma = 0\n",
    "#             for k in range(N2):\n",
    "#                 sigma += Y[k] * np.cos((np.pi/N2) * (n + 0.5 + N4) * (k + 0.5))\n",
    "\n",
    "#             X[k] = sigma / N2\n",
    "        \n",
    "\n",
    "\n",
    "    \n",
    "\n"
   ]
  },
  {
   "cell_type": "code",
   "execution_count": 6,
   "metadata": {},
   "outputs": [
    {
     "name": "stdout",
     "output_type": "stream",
     "text": [
      "[-57.24210971 -12.86016665   9.8570685    5.67543991  -5.12404568\n",
      "  -4.78656661   4.5661035    3.8168321  -56.83264532  -5.09438448\n",
      "   2.3344364    1.1308568   -2.05389648  -1.44749377   1.26990657\n",
      "   1.20118708]\n"
     ]
    }
   ],
   "source": [
    "x = np.arange(16)\n",
    "\n",
    "y = mdct(x)\n",
    "print(y)"
   ]
  },
  {
   "cell_type": "code",
   "execution_count": 7,
   "metadata": {},
   "outputs": [
    {
     "data": {
      "text/plain": [
       "dtype('float64')"
      ]
     },
     "execution_count": 7,
     "metadata": {},
     "output_type": "execute_result"
    }
   ],
   "source": [
    "y.dtype"
   ]
  },
  {
   "cell_type": "code",
   "execution_count": 8,
   "metadata": {},
   "outputs": [
    {
     "data": {
      "text/plain": [
       "array([-57.24210971, -12.86016665,   9.8570685 ,   5.67543991,\n",
       "        -5.12404568,  -4.78656661,   4.5661035 ,   3.8168321 ,\n",
       "       -56.83264532,  -5.09438448,   2.3344364 ,   1.1308568 ,\n",
       "        -2.05389648,  -1.44749377,   1.26990657,   1.20118708])"
      ]
     },
     "execution_count": 8,
     "metadata": {},
     "output_type": "execute_result"
    }
   ],
   "source": [
    "y"
   ]
  },
  {
   "cell_type": "code",
   "execution_count": null,
   "metadata": {},
   "outputs": [],
   "source": []
  }
 ],
 "metadata": {
  "kernelspec": {
   "display_name": "kitchensink",
   "language": "python",
   "name": "python3"
  },
  "language_info": {
   "codemirror_mode": {
    "name": "ipython",
    "version": 3
   },
   "file_extension": ".py",
   "mimetype": "text/x-python",
   "name": "python",
   "nbconvert_exporter": "python",
   "pygments_lexer": "ipython3",
   "version": "3.10.8"
  },
  "orig_nbformat": 4,
  "vscode": {
   "interpreter": {
    "hash": "819d2b5ed41cc2fe1270abeefe3e445ccd6d159a3be5412e6db9c2a5efad0c24"
   }
  }
 },
 "nbformat": 4,
 "nbformat_minor": 2
}
