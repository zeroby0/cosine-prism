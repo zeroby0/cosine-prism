{
 "cells": [
  {
   "cell_type": "code",
   "execution_count": 1,
   "metadata": {},
   "outputs": [],
   "source": [
    "import numpy as np\n",
    "\n",
    "from scipy.fft import dct, idct\n",
    "\n",
    "from scipy.signal.windows import kaiser_bessel_derived as kbdw"
   ]
  },
  {
   "cell_type": "code",
   "execution_count": 2,
   "metadata": {},
   "outputs": [],
   "source": [
    "def mdct4(x):\n",
    "    N = x.shape[0]\n",
    "    if N%4 != 0:\n",
    "        raise ValueError(\"MDCT4 only defined for vectors of length multiple of four.\")\n",
    "    M = N // 2\n",
    "    N4 = N // 4\n",
    "    \n",
    "    rot = np.roll(x, N4)\n",
    "    rot[:N4] = -rot[:N4]\n",
    "    t = np.arange(0, N4)\n",
    "    w = np.exp(-1j*2*np.pi*(t + 1./8.) / N)\n",
    "    c = np.take(rot,2*t) - np.take(rot, N-2*t-1) \\\n",
    "        - 1j * (np.take(rot, M+2*t) - np.take(rot,M-2*t-1))\n",
    "    c = (2./np.sqrt(N)) * w * np.fft.fft(0.5 * c * w, N4)\n",
    "    y = np.zeros(M)\n",
    "    y[2*t] = np.real(c[t])\n",
    "    y[M-2*t-1] = -np.imag(c[t])\n",
    "    return y\n",
    "\n",
    "def imdct4(x):\n",
    "    N = x.shape[0]\n",
    "    if N%2 != 0:\n",
    "        raise ValueError(\"iMDCT4 only defined for even-length vectors.\")\n",
    "    M = N // 2\n",
    "    N2 = N*2\n",
    "    \n",
    "    t = np.arange(0,M)\n",
    "    w = np.exp(-1j*2*np.pi*(t + 1./8.) / N2)\n",
    "    c = np.take(x,2*t) + 1j * np.take(x,N-2*t-1)\n",
    "    c = 0.5 * w * c\n",
    "    c = np.fft.fft(c,M)\n",
    "    c = ((8 / np.sqrt(N2))*w)*c\n",
    "    \n",
    "    rot = np.zeros(N2)\n",
    "    \n",
    "    rot[2*t] = np.real(c[t])\n",
    "    rot[N+2*t] = np.imag(c[t])\n",
    "    \n",
    "    t = np.arange(1,N2,2)\n",
    "    rot[t] = -rot[N2-t-1]\n",
    "    \n",
    "    t = np.arange(0,3*M)\n",
    "    y = np.zeros(N2)\n",
    "    y[t] = rot[t+M]\n",
    "    t = np.arange(3*M,N2)\n",
    "    y[t] = -rot[t-3*M]\n",
    "    return y"
   ]
  },
  {
   "cell_type": "code",
   "execution_count": 3,
   "metadata": {},
   "outputs": [],
   "source": [
    "def mdct(x):\n",
    "    N = x.shape[0]\n",
    "\n",
    "    if N%4 != 0:\n",
    "        raise ValueError(\"MDCT4 only defined for vectors of length multiple of four.\")\n",
    "\n",
    "    N4 = N // 4\n",
    "\n",
    "    a = x[0*N4:1*N4]\n",
    "    b = x[1*N4:2*N4]\n",
    "    c = x[2*N4:3*N4]\n",
    "    d = x[3*N4:4*N4]\n",
    "\n",
    "    br = np.flip(b)\n",
    "    cr = np.flip(c)\n",
    "\n",
    "    return dct(np.hstack([-cr - d, a - br]), type=4, norm='ortho', orthogonalize=True) / 2\n",
    "\n",
    "\n",
    "def imdct(y):\n",
    "    N = y.shape[0] * 2\n",
    "\n",
    "    if N%4 != 0:\n",
    "        raise ValueError(\"IMDCT is only defined for vectors lengths multiple of two.\")\n",
    "    \n",
    "    N4 = N // 4\n",
    "\n",
    "    z = idct(y, type=4, norm='ortho', orthogonalize=True)\n",
    "\n",
    "    z = np.hstack([z, -np.flip(z), -z]) * 2\n",
    "\n",
    "    return z[N4:5*N//4]"
   ]
  },
  {
   "cell_type": "code",
   "execution_count": 4,
   "metadata": {},
   "outputs": [
    {
     "name": "stdout",
     "output_type": "stream",
     "text": [
      "x1 =  [114 132 126 134 172 168 172 139 146 149 159 124 137 121 124 111]\n",
      "x1 =  [146 149 159 124 137 121 124 111 137 142 178 194 201 188 188 169]\n",
      "zo =  [146 149 159 124 137 121 124 111]\n"
     ]
    }
   ],
   "source": [
    "x = np.random.randint(-128, 128, 32)\n",
    "\n",
    "x = np.array([\n",
    "        114, 132, 126, 134, 172, 168, 172, 139,\n",
    "        146, 149, 159, 124, 137, 121, 124, 111, \n",
    "        137, 142, 178, 194, 201, 188, 188, 169, \n",
    "        198, 204, 223, 213, 205, 218, 209, 193\n",
    "    ])\n",
    "\n",
    "# x = x - x.mean()\n",
    "\n",
    "x1 = x[0:16]\n",
    "x2 = x[8:24]\n",
    "\n",
    "zo = x[8:16]\n",
    "\n",
    "print('x1 = ', x1)\n",
    "print('x1 = ', x2)\n",
    "print('zo = ', zo)\n",
    "\n",
    "r = 1"
   ]
  },
  {
   "cell_type": "code",
   "execution_count": 5,
   "metadata": {},
   "outputs": [
    {
     "name": "stdout",
     "output_type": "stream",
     "text": [
      "zo =  [146 149 159 124 137 121 124 111]\n",
      "z  =  [  1  40  77 112 142 166 185 196]\n",
      "relerr =  [0.99 0.73 0.52 0.1  0.04 0.37 0.49 0.77]\n",
      "cumrelerr =  4.0\n"
     ]
    }
   ],
   "source": [
    "kbdf = kbdw(16, np.pi * 0.64)\n",
    "\n",
    "y1 = mdct4(x1)\n",
    "y2 = mdct4(x2)\n",
    "\n",
    "y1[r:] = 0\n",
    "y2[r:] = 0\n",
    "\n",
    "z1 = imdct4(y1)\n",
    "z2 = imdct4(y2)\n",
    "\n",
    "z = np.rint((z1[8:] + z2[:8])/2).astype(np.int64)\n",
    "\n",
    "print('zo = ', zo)\n",
    "print('z  = ', np.rint(z).astype(np.int64))\n",
    "\n",
    "relerr = abs(z - zo) / zo\n",
    "\n",
    "print('relerr = ', relerr.round(2))\n",
    "print('cumrelerr = ', relerr.sum().round(2))"
   ]
  },
  {
   "cell_type": "code",
   "execution_count": 6,
   "metadata": {},
   "outputs": [
    {
     "name": "stdout",
     "output_type": "stream",
     "text": [
      "zo =  [146 149 159 124 137 121 124 111]\n",
      "z  =  [115 121 129 138 148 159 170 180]\n",
      "relerr =  [0.21 0.19 0.19 0.11 0.08 0.31 0.37 0.62]\n",
      "cumrelerr =  2.09\n"
     ]
    }
   ],
   "source": [
    "y1 = mdct4(x1 * kbdf)\n",
    "y2 = mdct4(x2 * kbdf)\n",
    "\n",
    "y1[r:] = 0\n",
    "y2[r:] = 0\n",
    "\n",
    "z1 = imdct4(y1) * kbdf\n",
    "z2 = imdct4(y2) * kbdf\n",
    "\n",
    "z = np.rint(z1[8:] + z2[:8]).astype(np.int64)\n",
    "\n",
    "print('zo = ', zo)\n",
    "print('z  = ', np.rint(z).astype(np.int64))\n",
    "\n",
    "relerr = abs(z - zo) / zo\n",
    "\n",
    "print('relerr = ', relerr.round(2))\n",
    "print('cumrelerr = ', relerr.sum().round(2))\n"
   ]
  },
  {
   "cell_type": "code",
   "execution_count": 7,
   "metadata": {},
   "outputs": [
    {
     "name": "stdout",
     "output_type": "stream",
     "text": [
      "zo =  [146 149 159 124 137 121 124 111]\n",
      "z  =  [  1  40  77 112 142 166 185 196]\n",
      "relerr =  [0.99 0.73 0.52 0.1  0.04 0.37 0.49 0.77]\n",
      "cumrelerr =  4.0\n"
     ]
    }
   ],
   "source": [
    "y1 = mdct(x1)\n",
    "y2 = mdct(x2)\n",
    "\n",
    "y1[r:] = 0\n",
    "y2[r:] = 0\n",
    "\n",
    "z1 = imdct(y1)\n",
    "z2 = imdct(y2)\n",
    "\n",
    "z = np.rint((z1[8:] + z2[:8])/2).astype(np.int64)\n",
    "\n",
    "print('zo = ', zo)\n",
    "print('z  = ', np.rint(z).astype(np.int64))\n",
    "\n",
    "relerr = abs(z - zo) / zo\n",
    "\n",
    "print('relerr = ', relerr.round(2))\n",
    "print('cumrelerr = ', relerr.sum().round(2))"
   ]
  },
  {
   "cell_type": "code",
   "execution_count": 8,
   "metadata": {},
   "outputs": [
    {
     "name": "stdout",
     "output_type": "stream",
     "text": [
      "zo =  [146 149 159 124 137 121 124 111]\n",
      "z  =  [115 121 129 138 148 159 170 180]\n",
      "relerr =  [0.21 0.19 0.19 0.11 0.08 0.31 0.37 0.62]\n",
      "cumrelerr =  2.09\n"
     ]
    }
   ],
   "source": [
    "y1 = mdct(x1 * kbdf)\n",
    "y2 = mdct(x2 * kbdf)\n",
    "\n",
    "y1[r:] = 0\n",
    "y2[r:] = 0\n",
    "\n",
    "z1 = imdct(y1) * kbdf\n",
    "z2 = imdct(y2) * kbdf\n",
    "\n",
    "z = np.rint(z1[8:] + z2[:8]).astype(np.int64)\n",
    "\n",
    "print('zo = ', zo)\n",
    "print('z  = ', np.rint(z).astype(np.int64))\n",
    "\n",
    "relerr = abs(z - zo) / zo\n",
    "\n",
    "print('relerr = ', relerr.round(2))\n",
    "print('cumrelerr = ', relerr.sum().round(2))"
   ]
  },
  {
   "cell_type": "code",
   "execution_count": null,
   "metadata": {},
   "outputs": [],
   "source": []
  }
 ],
 "metadata": {
  "kernelspec": {
   "display_name": "Python 3.10.8 ('kitchensink')",
   "language": "python",
   "name": "python3"
  },
  "language_info": {
   "codemirror_mode": {
    "name": "ipython",
    "version": 3
   },
   "file_extension": ".py",
   "mimetype": "text/x-python",
   "name": "python",
   "nbconvert_exporter": "python",
   "pygments_lexer": "ipython3",
   "version": "3.10.8"
  },
  "orig_nbformat": 4,
  "vscode": {
   "interpreter": {
    "hash": "819d2b5ed41cc2fe1270abeefe3e445ccd6d159a3be5412e6db9c2a5efad0c24"
   }
  }
 },
 "nbformat": 4,
 "nbformat_minor": 2
}
