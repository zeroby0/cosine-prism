{
 "cells": [
  {
   "cell_type": "code",
   "execution_count": 66,
   "metadata": {},
   "outputs": [],
   "source": [
    "import numpy as np"
   ]
  },
  {
   "cell_type": "code",
   "execution_count": 67,
   "metadata": {},
   "outputs": [],
   "source": [
    "def window_maker(x, skip=8):\n",
    "    npx = np.asarray(x, dtype=np.float64)\n",
    "\n",
    "    npx = npx.reshape(npx.shape[0] // skip, skip)\n",
    "\n",
    "    return np.hstack([npx[:-1], npx[1:]])"
   ]
  },
  {
   "cell_type": "code",
   "execution_count": 68,
   "metadata": {},
   "outputs": [],
   "source": [
    "def mdct(x):\n",
    "    npx = np.asarray(x, dtype=np.float64)\n",
    "\n",
    "    N = int(npx.shape[0])\n",
    "\n",
    "    N2 = N // 2\n",
    "    N4 = N // 4\n",
    "\n",
    "    X = np.zeros(N2, dtype=np.float64)\n",
    "\n",
    "    for i in range(N2):\n",
    "        sigma = 0\n",
    "        for j in range(N):\n",
    "            sigma += npx[j] * np.cos((np.pi/N2) * (j + 0.5 + N4) * (i + 0.5))\n",
    "        \n",
    "        X[i] = sigma\n",
    "    \n",
    "    return X"
   ]
  },
  {
   "cell_type": "code",
   "execution_count": 69,
   "metadata": {},
   "outputs": [],
   "source": [
    "def imdct(X):\n",
    "    npX = np.asarray(X, dtype=np.float64)\n",
    "\n",
    "    N = int(npX.shape[0] * 2)\n",
    "\n",
    "    N2 = N // 2\n",
    "    N4 = N // 4\n",
    "\n",
    "    x = np.zeros(N, dtype=np.float64)\n",
    "\n",
    "    for j in range(N):\n",
    "        sigma = 0\n",
    "        for i in range(N2):\n",
    "            sigma += npX[i] * np.cos((np.pi/N2) * (j + 0.5 + N4) * (i + 0.5))\n",
    "   \n",
    "        x[j] = sigma / N2\n",
    "    \n",
    "    return x"
   ]
  },
  {
   "cell_type": "code",
   "execution_count": 70,
   "metadata": {},
   "outputs": [],
   "source": [
    "x = np.arange(32)\n",
    "\n",
    "xw = window_maker(x)\n",
    "\n",
    "Xw = [mdct(w) for w in xw]\n",
    "\n",
    "yw = [imdct(w) for w in Xw]"
   ]
  },
  {
   "cell_type": "code",
   "execution_count": 71,
   "metadata": {},
   "outputs": [
    {
     "data": {
      "text/plain": [
       "array([ 8.,  9., 10., 11., 12., 13., 14., 15.])"
      ]
     },
     "execution_count": 71,
     "metadata": {},
     "output_type": "execute_result"
    }
   ],
   "source": [
    "yw[0][8:] + yw[1][:8]"
   ]
  },
  {
   "cell_type": "code",
   "execution_count": 72,
   "metadata": {},
   "outputs": [
    {
     "data": {
      "text/plain": [
       "[array([-3.5, -2.5, -1.5, -0.5,  0.5,  1.5,  2.5,  3.5, 11.5, 11.5, 11.5,\n",
       "        11.5, 11.5, 11.5, 11.5, 11.5]),\n",
       " array([-3.5, -2.5, -1.5, -0.5,  0.5,  1.5,  2.5,  3.5, 19.5, 19.5, 19.5,\n",
       "        19.5, 19.5, 19.5, 19.5, 19.5]),\n",
       " array([-3.5, -2.5, -1.5, -0.5,  0.5,  1.5,  2.5,  3.5, 27.5, 27.5, 27.5,\n",
       "        27.5, 27.5, 27.5, 27.5, 27.5])]"
      ]
     },
     "execution_count": 72,
     "metadata": {},
     "output_type": "execute_result"
    }
   ],
   "source": [
    "yw"
   ]
  },
  {
   "cell_type": "code",
   "execution_count": 73,
   "metadata": {},
   "outputs": [
    {
     "data": {
      "text/plain": [
       "array([[ 0.,  1.,  2.,  3.,  4.,  5.,  6.,  7.,  8.,  9., 10., 11., 12.,\n",
       "        13., 14., 15.],\n",
       "       [ 8.,  9., 10., 11., 12., 13., 14., 15., 16., 17., 18., 19., 20.,\n",
       "        21., 22., 23.],\n",
       "       [16., 17., 18., 19., 20., 21., 22., 23., 24., 25., 26., 27., 28.,\n",
       "        29., 30., 31.]])"
      ]
     },
     "execution_count": 73,
     "metadata": {},
     "output_type": "execute_result"
    }
   ],
   "source": [
    "xw"
   ]
  },
  {
   "cell_type": "code",
   "execution_count": 74,
   "metadata": {},
   "outputs": [
    {
     "data": {
      "text/plain": [
       "[array([-90.72891379, -14.25425402,  12.65336024,   7.68055862,\n",
       "         -7.2359366 ,  -5.79906942,   5.65400987,   5.29397081]),\n",
       " array([-148.44182227,  -33.74151839,   24.6535584 ,   16.59751028,\n",
       "         -14.5538897 ,  -12.21330896,   11.56540689,   10.97819615]),\n",
       " array([-206.15473075,  -53.22878277,   36.65375655,   25.51446194,\n",
       "         -21.87184281,  -18.62754851,   17.47680392,   16.6624215 ])]"
      ]
     },
     "execution_count": 74,
     "metadata": {},
     "output_type": "execute_result"
    }
   ],
   "source": [
    "Xw"
   ]
  },
  {
   "cell_type": "code",
   "execution_count": null,
   "metadata": {},
   "outputs": [],
   "source": []
  }
 ],
 "metadata": {
  "kernelspec": {
   "display_name": "kitchensink",
   "language": "python",
   "name": "python3"
  },
  "language_info": {
   "codemirror_mode": {
    "name": "ipython",
    "version": 3
   },
   "file_extension": ".py",
   "mimetype": "text/x-python",
   "name": "python",
   "nbconvert_exporter": "python",
   "pygments_lexer": "ipython3",
   "version": "3.10.8"
  },
  "orig_nbformat": 4,
  "vscode": {
   "interpreter": {
    "hash": "819d2b5ed41cc2fe1270abeefe3e445ccd6d159a3be5412e6db9c2a5efad0c24"
   }
  }
 },
 "nbformat": 4,
 "nbformat_minor": 2
}
