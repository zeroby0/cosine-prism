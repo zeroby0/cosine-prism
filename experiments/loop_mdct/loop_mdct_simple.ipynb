{
 "cells": [
  {
   "cell_type": "code",
   "execution_count": 1,
   "metadata": {},
   "outputs": [],
   "source": [
    "import numpy as np\n",
    "from scipy.signal.windows import kaiser_bessel_derived as kbdw"
   ]
  },
  {
   "cell_type": "code",
   "execution_count": 2,
   "metadata": {},
   "outputs": [],
   "source": [
    "def mdct(x):\n",
    "    npx = np.asarray(x, dtype=np.float64)\n",
    "\n",
    "    N = int(npx.shape[0])\n",
    "\n",
    "    N2 = N // 2\n",
    "    N4 = N // 4\n",
    "\n",
    "    X = np.zeros(N2, dtype=np.float64)\n",
    "\n",
    "    for i in range(N2):\n",
    "        sigma = 0\n",
    "        for j in range(N):\n",
    "            sigma += npx[j] * np.cos((np.pi/N2) * (j + 0.5 + N4) * (i + 0.5))\n",
    "        \n",
    "        X[i] = sigma\n",
    "    \n",
    "    return X"
   ]
  },
  {
   "cell_type": "code",
   "execution_count": 3,
   "metadata": {},
   "outputs": [],
   "source": [
    "def imdct(X):\n",
    "    npX = np.asarray(X, dtype=np.float64)\n",
    "\n",
    "    N = int(npX.shape[0] * 2)\n",
    "\n",
    "    N2 = N // 2\n",
    "    N4 = N // 4\n",
    "\n",
    "    x = np.zeros(N, dtype=np.float64)\n",
    "\n",
    "    for j in range(N):\n",
    "        sigma = 0\n",
    "        for i in range(N2):\n",
    "            sigma += npX[i] * np.cos((np.pi/N2) * (j + 0.5 + N4) * (i + 0.5))\n",
    "        \n",
    "        x[j] = sigma / N2\n",
    "    \n",
    "    return x"
   ]
  },
  {
   "cell_type": "code",
   "execution_count": 4,
   "metadata": {},
   "outputs": [
    {
     "name": "stdout",
     "output_type": "stream",
     "text": [
      "x1 =  [114 132 126 134 172 168 172 139 146 149 159 124 137 121 124 111]\n",
      "x1 =  [146 149 159 124 137 121 124 111 137 142 178 194 201 188 188 169]\n",
      "zo =  [146 149 159 124 137 121 124 111]\n"
     ]
    }
   ],
   "source": [
    "kbdf = kbdw(16, np.pi * 0.64)\n",
    "\n",
    "x = np.array([\n",
    "        114, 132, 126, 134, 172, 168, 172, 139,\n",
    "        146, 149, 159, 124, 137, 121, 124, 111, \n",
    "        137, 142, 178, 194, 201, 188, 188, 169, \n",
    "        198, 204, 223, 213, 205, 218, 209, 193\n",
    "    ])\n",
    "\n",
    "x1 = x[0:16]\n",
    "x2 = x[8:24]\n",
    "\n",
    "zo = x[8:16]\n",
    "\n",
    "print('x1 = ', x1)\n",
    "print('x1 = ', x2)\n",
    "print('zo = ', zo)\n",
    "\n",
    "r = 1\n"
   ]
  },
  {
   "cell_type": "code",
   "execution_count": 5,
   "metadata": {},
   "outputs": [
    {
     "name": "stdout",
     "output_type": "stream",
     "text": [
      "zo =  [146 149 159 124 137 121 124 111]\n",
      "z  =  [  1  40  77 112 142 166 185 196]\n",
      "relerr =  [0.99 0.73 0.52 0.1  0.04 0.37 0.49 0.77]\n",
      "cumrelerr =  4.0\n"
     ]
    }
   ],
   "source": [
    "y1 = mdct(x1)\n",
    "y2 = mdct(x2)\n",
    "\n",
    "y1[r:] = 0\n",
    "y2[r:] = 0\n",
    "\n",
    "z1 = imdct(y1)\n",
    "z2 = imdct(y2)\n",
    "\n",
    "z = (z1[8:] + z2[:8])\n",
    "\n",
    "z = np.rint(z1[8:] + z2[:8]).astype(np.int64)\n",
    "\n",
    "print('zo = ', zo)\n",
    "print('z  = ', np.rint(z).astype(np.int64))\n",
    "\n",
    "relerr = abs(z - zo) / zo\n",
    "\n",
    "print('relerr = ', relerr.round(2))\n",
    "print('cumrelerr = ', relerr.sum().round(2))"
   ]
  },
  {
   "cell_type": "code",
   "execution_count": 6,
   "metadata": {},
   "outputs": [
    {
     "name": "stdout",
     "output_type": "stream",
     "text": [
      "zo =  [146 149 159 124 137 121 124 111]\n",
      "z  =  [115 121 129 138 148 159 170 180]\n",
      "relerr =  [0.21 0.19 0.19 0.11 0.08 0.31 0.37 0.62]\n",
      "cumrelerr =  2.09\n"
     ]
    }
   ],
   "source": [
    "y1 = mdct(x1 * kbdf)\n",
    "y2 = mdct(x2 * kbdf)\n",
    "\n",
    "y1[r:] = 0\n",
    "y2[r:] = 0\n",
    "\n",
    "z1 = imdct(y1) * kbdf\n",
    "z2 = imdct(y2) * kbdf\n",
    "\n",
    "z = np.rint((z1[8:] + z2[:8]) * 2).astype(np.int64)\n",
    "\n",
    "print('zo = ', zo)\n",
    "print('z  = ', np.rint(z).astype(np.int64))\n",
    "\n",
    "relerr = abs(z - zo) / zo\n",
    "\n",
    "print('relerr = ', relerr.round(2))\n",
    "print('cumrelerr = ', relerr.sum().round(2))"
   ]
  }
 ],
 "metadata": {
  "kernelspec": {
   "display_name": "kitchensink",
   "language": "python",
   "name": "python3"
  },
  "language_info": {
   "codemirror_mode": {
    "name": "ipython",
    "version": 3
   },
   "file_extension": ".py",
   "mimetype": "text/x-python",
   "name": "python",
   "nbconvert_exporter": "python",
   "pygments_lexer": "ipython3",
   "version": "3.10.8"
  },
  "orig_nbformat": 4,
  "vscode": {
   "interpreter": {
    "hash": "819d2b5ed41cc2fe1270abeefe3e445ccd6d159a3be5412e6db9c2a5efad0c24"
   }
  }
 },
 "nbformat": 4,
 "nbformat_minor": 2
}
