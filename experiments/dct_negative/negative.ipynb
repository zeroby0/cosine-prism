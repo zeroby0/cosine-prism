{
 "cells": [
  {
   "cell_type": "code",
   "execution_count": 1,
   "metadata": {},
   "outputs": [],
   "source": [
    "# See if DCT performs better when the data is spread around 0, vs all positive."
   ]
  },
  {
   "cell_type": "code",
   "execution_count": 2,
   "metadata": {},
   "outputs": [],
   "source": [
    "import numpy as np\n",
    "\n",
    "from PIL import Image, ImageFilter\n",
    "from matplotlib import pylab as pylab\n",
    "from matplotlib import pyplot as plt\n",
    "\n",
    "from scipy.fft import dct, idct\n",
    "\n",
    "# %matplotlib inline\n",
    "pylab.rcParams['figure.figsize'] = (8, 8)\n",
    "\n",
    "from pathlib import Path\n",
    "\n",
    "image = 'coral'\n",
    "size  = 1024\n",
    "\n",
    "experiment = 'negative'\n",
    "\n",
    "output = Path('outputs') / f'{image}-{size}'\n",
    "\n",
    "output.mkdir(exist_ok=True, parents=True)"
   ]
  },
  {
   "cell_type": "code",
   "execution_count": 3,
   "metadata": {},
   "outputs": [
    {
     "data": {
      "image/png": "[encoded data removed]",
      "text/plain": [
       "<Figure size 800x800 with 1 Axes>"
      ]
     },
     "metadata": {},
     "output_type": "display_data"
    }
   ],
   "source": [
    "y, cb, cr = Image.open(f'../../images/{image}/{image}-{size}.png').convert('YCbCr').split()\n",
    "\n",
    "im = np.array(y)\n",
    "im = im[:im.shape[0] - im.shape[0]%8, :im.shape[1] - im.shape[1]%8]\n",
    "\n",
    "im = im.astype(np.int64)\n",
    "\n",
    "im = np.asmatrix(im[0][:2000])\n",
    "\n",
    "plt.figure()\n",
    "plt.imshow(im, cmap='gray')\n",
    "plt.title(f\"Original image in graymap - {image} {size}\")\n",
    "\n",
    "plt.imsave(f'{output}/original.png', im, cmap='gray')"
   ]
  },
  {
   "cell_type": "code",
   "execution_count": 4,
   "metadata": {},
   "outputs": [],
   "source": [
    "imt = im.A1\n",
    "\n",
    "\n",
    "dct_normal = dct(imt.reshape((im.size//8, 8)))\n",
    "dct_127    = dct((imt - 127).reshape((im.size//8, 8)))\n",
    "dct_mean   = dct((imt - np.mean(imt)).reshape((im.size//8, 8)))\n",
    "dct_median = dct((imt - np.median(imt)).reshape((im.size//8, 8)))"
   ]
  },
  {
   "cell_type": "code",
   "execution_count": 5,
   "metadata": {},
   "outputs": [],
   "source": [
    "def describe(arr):\n",
    "    print(\"min: \", arr.min())\n",
    "    print(\"max:\", arr.max())\n",
    "    print(\"range:\", arr.max() - arr.min())\n",
    "    print(\"mean:\", np.mean(arr))\n",
    "    print(\"median:\", np.median(arr))\n",
    "    print(\"abs sum:\", abs(arr).sum())"
   ]
  },
  {
   "cell_type": "code",
   "execution_count": 6,
   "metadata": {},
   "outputs": [
    {
     "name": "stdout",
     "output_type": "stream",
     "text": [
      "min:  25\n",
      "max: 235\n",
      "range: 210\n",
      "mean: 100.48046875\n",
      "median: 98.0\n",
      "abs sum: 102892\n"
     ]
    }
   ],
   "source": [
    "describe(imt)"
   ]
  },
  {
   "cell_type": "code",
   "execution_count": 7,
   "metadata": {},
   "outputs": [
    {
     "name": "stdout",
     "output_type": "stream",
     "text": [
      "min:  -545.5418921248556\n",
      "max: 3444.0\n",
      "range: 3989.5418921248556\n",
      "mean: 201.9644264437955\n",
      "median: 1.6559086384500625\n",
      "abs sum: 250628.0490790723\n"
     ]
    }
   ],
   "source": [
    "describe(dct_normal)"
   ]
  },
  {
   "cell_type": "code",
   "execution_count": 8,
   "metadata": {},
   "outputs": [
    {
     "name": "stdout",
     "output_type": "stream",
     "text": [
      "min:  -1616.0\n",
      "max: 1412.0\n",
      "range: 3028.0\n",
      "mean: -52.03557355620448\n",
      "median: -0.4168600955194228\n",
      "abs sum: 146784.0490790723\n"
     ]
    }
   ],
   "source": [
    "describe(dct_127)"
   ]
  },
  {
   "cell_type": "code",
   "execution_count": 9,
   "metadata": {},
   "outputs": [
    {
     "name": "stdout",
     "output_type": "stream",
     "text": [
      "min:  -1191.6875\n",
      "max: 1836.3125\n",
      "range: 3028.0\n",
      "mean: 1.0034889437955208\n",
      "median: 0.0\n",
      "abs sum: 138968.0490790723\n"
     ]
    }
   ],
   "source": [
    "describe(dct_mean)"
   ]
  },
  {
   "cell_type": "code",
   "execution_count": 10,
   "metadata": {},
   "outputs": [
    {
     "name": "stdout",
     "output_type": "stream",
     "text": [
      "min:  -1152.0\n",
      "max: 1876.0\n",
      "range: 3028.0\n",
      "mean: 5.964426443795521\n",
      "median: 0.0\n",
      "abs sum: 139060.0490790723\n"
     ]
    }
   ],
   "source": [
    "describe(dct_median)"
   ]
  },
  {
   "cell_type": "code",
   "execution_count": 11,
   "metadata": {},
   "outputs": [
    {
     "name": "stdout",
     "output_type": "stream",
     "text": [
      "[[  0 117]\n",
      " [  1 133]\n",
      " [  2  95]\n",
      " [  3 107]\n",
      " [  4  90]\n",
      " [  5  85]\n",
      " [  6 117]\n",
      " [  7  76]\n",
      " [  8  97]\n",
      " [  9 107]]\n"
     ]
    }
   ],
   "source": [
    "unique, counts = np.unique(imt % 10, return_counts=True)\n",
    "\n",
    "print(np.asarray((unique, counts)).T)"
   ]
  },
  {
   "cell_type": "code",
   "execution_count": null,
   "metadata": {},
   "outputs": [],
   "source": []
  }
 ],
 "metadata": {
  "kernelspec": {
   "display_name": "kitchensink",
   "language": "python",
   "name": "python3"
  },
  "language_info": {
   "codemirror_mode": {
    "name": "ipython",
    "version": 3
   },
   "file_extension": ".py",
   "mimetype": "text/x-python",
   "name": "python",
   "nbconvert_exporter": "python",
   "pygments_lexer": "ipython3",
   "version": "3.10.8"
  },
  "orig_nbformat": 4,
  "vscode": {
   "interpreter": {
    "hash": "819d2b5ed41cc2fe1270abeefe3e445ccd6d159a3be5412e6db9c2a5efad0c24"
   }
  }
 },
 "nbformat": 4,
 "nbformat_minor": 2
}
