{
 "cells": [
  {
   "cell_type": "code",
   "execution_count": 1,
   "metadata": {},
   "outputs": [],
   "source": [
    "import numpy as np\n",
    "\n",
    "from scipy.signal.windows import kaiser_bessel_derived\n",
    "from scipy.fft import dct, idct"
   ]
  },
  {
   "cell_type": "code",
   "execution_count": 8,
   "metadata": {},
   "outputs": [],
   "source": [
    "def mdct(x):\n",
    "    N = x.shape[0]\n",
    "\n",
    "    if N%4 != 0:\n",
    "        raise ValueError(\"MDCT is only defined for vectors lengths multiple of four.\")\n",
    "\n",
    "    N4 = N // 4\n",
    "\n",
    "    a = x[0*N4:1*N4]\n",
    "    b = x[1*N4:2*N4]\n",
    "    c = x[2*N4:3*N4]\n",
    "    d = x[3*N4:4*N4]\n",
    "\n",
    "    br = np.flip(b)\n",
    "    cr = np.flip(c)\n",
    "\n",
    "    return dct(np.hstack([-cr - d, a - br]), norm='ortho')\n",
    "\n",
    "def imdct(y):\n",
    "    N = y.shape[0] * 2\n",
    "\n",
    "    if N%4 != 0:\n",
    "        raise ValueError(\"IMDCT is only defined for vectors lengths multiple of two.\")\n",
    "    \n",
    "    z = idct(y, norm='ortho')\n",
    "\n",
    "    z = np.hstack([z, -np.flip(z), -z])\n",
    "\n",
    "    # return z[N//2:5*N//2]\n",
    "    return z[:2*N]\n"
   ]
  },
  {
   "cell_type": "code",
   "execution_count": 10,
   "metadata": {},
   "outputs": [
    {
     "name": "stdout",
     "output_type": "stream",
     "text": [
      "[-54. -54. -54. -54.  -8.  -8.  -8.  -8.]\n",
      "[-38. -36. -34. -32.  16.  18.  20.  22.]\n",
      "[ 8  9 10 11 12 13 14 15]\n"
     ]
    }
   ],
   "source": [
    "X = np.arange(32)\n",
    "Y1 = mdct(X[0:16])\n",
    "Y2 = mdct(X[8:24])\n",
    "Z1 = imdct(Y1)\n",
    "Z2 = imdct(Y2)\n",
    "print(Z1[8:16]+ Z2[:8] - 2*X[8:16]) # should be about 0\n",
    "print(Z1[8:16] + Z2[:8])\n",
    "print(X[8:16])"
   ]
  },
  {
   "cell_type": "code",
   "execution_count": 12,
   "metadata": {},
   "outputs": [
    {
     "ename": "ValueError",
     "evalue": "operands could not be broadcast together with shapes (150,) (100,) ",
     "output_type": "error",
     "traceback": [
      "\u001b[0;31m---------------------------------------------------------------------------\u001b[0m",
      "\u001b[0;31mValueError\u001b[0m                                Traceback (most recent call last)",
      "Cell \u001b[0;32mIn [12], line 4\u001b[0m\n\u001b[1;32m      2\u001b[0m Y1 \u001b[39m=\u001b[39m mdct(X[:\u001b[39m100\u001b[39m] \u001b[39m*\u001b[39m kaiser_bessel_derived(\u001b[39m100\u001b[39m, beta\u001b[39m=\u001b[39m\u001b[39m16\u001b[39m))\n\u001b[1;32m      3\u001b[0m Y2 \u001b[39m=\u001b[39m mdct(X[\u001b[39m50\u001b[39m:\u001b[39m150\u001b[39m] \u001b[39m*\u001b[39m kaiser_bessel_derived(\u001b[39m100\u001b[39m, beta\u001b[39m=\u001b[39m\u001b[39m16\u001b[39m))\n\u001b[0;32m----> 4\u001b[0m Z1 \u001b[39m=\u001b[39m imdct(Y1) \u001b[39m*\u001b[39;49m kaiser_bessel_derived(\u001b[39m100\u001b[39;49m, beta\u001b[39m=\u001b[39;49m\u001b[39m16\u001b[39;49m)\n\u001b[1;32m      5\u001b[0m Z2 \u001b[39m=\u001b[39m imdct(Y2) \u001b[39m*\u001b[39m kaiser_bessel_derived(\u001b[39m100\u001b[39m, beta\u001b[39m=\u001b[39m\u001b[39m16\u001b[39m)\n\u001b[1;32m      6\u001b[0m \u001b[39mprint\u001b[39m(Z1[\u001b[39m50\u001b[39m:\u001b[39m100\u001b[39m] \u001b[39m+\u001b[39m Z2[:\u001b[39m50\u001b[39m] \u001b[39m-\u001b[39m \u001b[39m2\u001b[39m\u001b[39m*\u001b[39mX[\u001b[39m50\u001b[39m:\u001b[39m100\u001b[39m]) \u001b[39m# should be about 0\u001b[39;00m\n",
      "\u001b[0;31mValueError\u001b[0m: operands could not be broadcast together with shapes (150,) (100,) "
     ]
    }
   ],
   "source": [
    "X = np.arange(1000)\n",
    "Y1 = mdct(X[:100] * kaiser_bessel_derived(100, beta=16))\n",
    "Y2 = mdct(X[50:150] * kaiser_bessel_derived(100, beta=16))\n",
    "Z1 = imdct(Y1) * kaiser_bessel_derived(100, beta=16)\n",
    "Z2 = imdct(Y2) * kaiser_bessel_derived(100, beta=16)\n",
    "print(Z1[50:100] + Z2[:50] - 2*X[50:100]) # should be about 0"
   ]
  },
  {
   "cell_type": "code",
   "execution_count": null,
   "metadata": {},
   "outputs": [],
   "source": [
    "X = np.random.rand(1000)\n",
    "\n",
    "y = dct(X, norm='ortho')\n",
    "\n",
    "(X - idct(y, norm='ortho')).max()"
   ]
  },
  {
   "cell_type": "code",
   "execution_count": null,
   "metadata": {},
   "outputs": [],
   "source": [
    "X"
   ]
  },
  {
   "cell_type": "code",
   "execution_count": null,
   "metadata": {},
   "outputs": [],
   "source": []
  }
 ],
 "metadata": {
  "kernelspec": {
   "display_name": "Python 3.10.6 ('kitchensink')",
   "language": "python",
   "name": "python3"
  },
  "language_info": {
   "codemirror_mode": {
    "name": "ipython",
    "version": 3
   },
   "file_extension": ".py",
   "mimetype": "text/x-python",
   "name": "python",
   "nbconvert_exporter": "python",
   "pygments_lexer": "ipython3",
   "version": "3.10.8 (main, Nov 24 2022, 14:13:03) [GCC 11.2.0]"
  },
  "orig_nbformat": 4,
  "vscode": {
   "interpreter": {
    "hash": "819d2b5ed41cc2fe1270abeefe3e445ccd6d159a3be5412e6db9c2a5efad0c24"
   }
  }
 },
 "nbformat": 4,
 "nbformat_minor": 2
}
