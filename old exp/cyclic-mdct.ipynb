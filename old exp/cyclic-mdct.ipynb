{
 "cells": [
  {
   "cell_type": "code",
   "execution_count": 1,
   "metadata": {},
   "outputs": [],
   "source": [
    "import numpy as np\n",
    "\n",
    "from mdctn.core import mdct, imdct"
   ]
  },
  {
   "cell_type": "code",
   "execution_count": 2,
   "metadata": {},
   "outputs": [],
   "source": [
    "x = np.arange(24)"
   ]
  },
  {
   "cell_type": "code",
   "execution_count": 3,
   "metadata": {},
   "outputs": [],
   "source": [
    "a1 = x[0:4]\n",
    "a2 = x[4:8]\n",
    "b1 = x[8:12]\n",
    "b2 = x[12:16]\n",
    "c1 = x[16:20]\n",
    "c2 = x[20:24]"
   ]
  },
  {
   "cell_type": "code",
   "execution_count": 4,
   "metadata": {},
   "outputs": [],
   "source": [
    "x1 = np.hstack([c2, a1, a2, b1])\n",
    "x2 = np.hstack([a2, b1, b2, c1])\n",
    "x3 = np.hstack([b2, c1, c2, a1])\n",
    "\n",
    "y1 = mdct(x1)\n",
    "y2 = mdct(x2)\n",
    "y3 = mdct(x3)\n",
    "\n",
    "print(y1, y2, y3)"
   ]
  },
  {
   "cell_type": "code",
   "execution_count": 5,
   "metadata": {},
   "outputs": [],
   "source": [
    "z1 = imdct(y1)\n",
    "z2 = imdct(y2)\n",
    "z3 = imdct(y3)"
   ]
  },
  {
   "cell_type": "code",
   "execution_count": 6,
   "metadata": {},
   "outputs": [
    {
     "name": "stdout",
     "output_type": "stream",
     "text": [
      "[ 4.  5.  6.  7.  8.  9. 10. 11.]\n",
      "[12. 13. 14. 15. 16. 17. 18. 19.]\n",
      "[20. 21. 22. 23.  0.  1.  2.  3.]\n"
     ]
    }
   ],
   "source": [
    "print(z1[8:16] + z2[0:8]) # a2, b1\n",
    "print(z2[8:16] + z3[0:8]) # b2, c1\n",
    "print(z3[8:16] + z1[0:8]) # c2, a1"
   ]
  },
  {
   "cell_type": "code",
   "execution_count": null,
   "metadata": {},
   "outputs": [],
   "source": []
  }
 ],
 "metadata": {
  "kernelspec": {
   "display_name": "Python 3.10.8 ('kitchensink')",
   "language": "python",
   "name": "python3"
  },
  "language_info": {
   "codemirror_mode": {
    "name": "ipython",
    "version": 3
   },
   "file_extension": ".py",
   "mimetype": "text/x-python",
   "name": "python",
   "nbconvert_exporter": "python",
   "pygments_lexer": "ipython3",
   "version": "3.10.8 (main, Nov 24 2022, 14:13:03) [GCC 11.2.0]"
  },
  "orig_nbformat": 4,
  "vscode": {
   "interpreter": {
    "hash": "819d2b5ed41cc2fe1270abeefe3e445ccd6d159a3be5412e6db9c2a5efad0c24"
   }
  }
 },
 "nbformat": 4,
 "nbformat_minor": 2
}
