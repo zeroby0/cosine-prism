{
 "cells": [
  {
   "cell_type": "markdown",
   "metadata": {},
   "source": [
    "# Demo 1\n",
    "\n",
    "Preview of output as more DCT channels arrive"
   ]
  },
  {
   "cell_type": "code",
   "execution_count": 1,
   "metadata": {},
   "outputs": [],
   "source": [
    "import numpy as np\n",
    "from PIL import Image\n",
    "from scipy.fft import dctn, idctn\n",
    "from matplotlib import pylab as pylab\n",
    "from matplotlib import pyplot as plt\n",
    "\n",
    "%matplotlib inline\n",
    "pylab.rcParams['figure.figsize'] = (8, 8)\n"
   ]
  },
  {
   "cell_type": "code",
   "execution_count": 2,
   "metadata": {},
   "outputs": [],
   "source": [
    "def mdct4(x):\n",
    "    N = x.shape[0]\n",
    "    if N%4 != 0:\n",
    "        raise ValueError(\"MDCT4 only defined for vectors of length multiple of four.\")\n",
    "    M = N // 2\n",
    "    N4 = N // 4\n",
    "    \n",
    "    rot = np.roll(x, N4)\n",
    "    rot[:N4] = -rot[:N4]\n",
    "    t = np.arange(0, N4)\n",
    "    w = np.exp(-1j*2*np.pi*(t + 1./8.) / N)\n",
    "    c = np.take(rot,2*t) - np.take(rot, N-2*t-1) \\\n",
    "        - 1j * (np.take(rot, M+2*t) - np.take(rot,M-2*t-1))\n",
    "    c = (2./np.sqrt(N)) * w * np.fft.fft(0.5 * c * w, N4)\n",
    "    y = np.zeros(M)\n",
    "    y[2*t] = np.real(c[t])\n",
    "    y[M-2*t-1] = -np.imag(c[t])\n",
    "    return y\n",
    "\n",
    "\n",
    "def imdct4(x):\n",
    "    N = x.shape[0]\n",
    "    if N%2 != 0:\n",
    "        raise ValueError(\"iMDCT4 only defined for even-length vectors.\")\n",
    "    M = N // 2\n",
    "    N2 = N*2\n",
    "    \n",
    "    t = np.arange(0,M)\n",
    "    w = np.exp(-1j*2*np.pi*(t + 1./8.) / N2)\n",
    "    c = np.take(x,2*t) + 1j * np.take(x,N-2*t-1)\n",
    "    c = 0.5 * w * c\n",
    "    c = np.fft.fft(c,M)\n",
    "    c = ((8 / np.sqrt(N2))*w)*c\n",
    "    \n",
    "    rot = np.zeros(N2)\n",
    "    \n",
    "    rot[2*t] = np.real(c[t])\n",
    "    rot[N+2*t] = np.imag(c[t])\n",
    "    \n",
    "    t = np.arange(1,N2,2)\n",
    "    rot[t] = -rot[N2-t-1]\n",
    "    \n",
    "    t = np.arange(0,3*M)\n",
    "    y = np.zeros(N2)\n",
    "    y[t] = rot[t+M]\n",
    "    t = np.arange(3*M,N2)\n",
    "    y[t] = -rot[t-3*M]\n",
    "    return y\n",
    "\n",
    "\n"
   ]
  },
  {
   "cell_type": "code",
   "execution_count": 3,
   "metadata": {},
   "outputs": [
    {
     "name": "stdout",
     "output_type": "stream",
     "text": [
      "2.520719752872653e-15\n",
      "[-2.22044605e-16  4.44089210e-16  4.44089210e-16  6.66133815e-16\n",
      "  2.22044605e-16  8.88178420e-16  4.44089210e-16  2.22044605e-16\n",
      "  4.44089210e-16  0.00000000e+00  0.00000000e+00  3.33066907e-16\n",
      "  1.66533454e-16  4.44089210e-16  4.44089210e-16  0.00000000e+00\n",
      "  4.44089210e-16  2.22044605e-16 -2.22044605e-16  4.44089210e-16\n",
      "  3.88578059e-16  0.00000000e+00 -2.22044605e-16  0.00000000e+00\n",
      "  4.44089210e-16  2.22044605e-16  4.44089210e-16  3.88578059e-16\n",
      "  1.66533454e-16  2.22044605e-16  0.00000000e+00  2.22044605e-16\n",
      "  2.22044605e-16  7.21644966e-16  1.11022302e-16 -2.22044605e-16\n",
      "  2.22044605e-16 -5.55111512e-17  0.00000000e+00  0.00000000e+00\n",
      " -2.22044605e-16  0.00000000e+00  3.33066907e-16  6.66133815e-16\n",
      " -2.22044605e-16  4.44089210e-16  6.66133815e-16 -2.22044605e-16\n",
      "  1.11022302e-16 -4.44089210e-16]\n"
     ]
    }
   ],
   "source": [
    "X = np.random.rand(1000)\n",
    "Y1 = mdct4(X[:100])\n",
    "Y2 = mdct4(X[50:150])\n",
    "Z1 = imdct4(Y1)\n",
    "Z2 = imdct4(Y2)\n",
    "print(np.linalg.norm(Z1[50:100] + Z2[:50] - 2*X[50:100])) # should be about 0\n",
    "print(Z1[50:100] + Z2[:50] - 2*X[50:100]) # should be about 0"
   ]
  },
  {
   "cell_type": "code",
   "execution_count": 4,
   "metadata": {},
   "outputs": [
    {
     "name": "stdout",
     "output_type": "stream",
     "text": [
      "3.8148663449272027\n",
      "[-0.62070193 -0.30649835 -0.0076492  -0.63116941 -0.73188012 -0.4624331\n",
      " -0.18591169 -0.98733321 -0.20561803 -0.64500553 -0.82530009 -0.29526532\n",
      " -0.24841919 -0.69975991 -0.01489196 -0.74688528 -0.56974057 -0.96070493\n",
      " -0.47298384 -0.60985547 -0.12053706 -0.30661678 -0.46662361 -0.92511008\n",
      " -0.84384036 -0.01651942 -0.67500198 -0.09992968 -0.18602465 -0.42748648\n",
      " -0.05436838 -0.19243772 -0.10106833 -0.20792075 -0.02022561 -0.26422467\n",
      " -0.94196433 -0.04391223 -0.66379064 -0.68035738 -0.10292523 -0.27599249\n",
      " -0.09992275 -0.90203178 -0.27688058 -0.65530785 -0.40573073 -0.81052956\n",
      " -0.00552732 -0.98261133]\n"
     ]
    }
   ],
   "source": [
    "from scipy.signal.windows import kaiser_bessel_derived\n",
    "\n",
    "Y1 = mdct4(X[:100] * kaiser_bessel_derived(100, beta=16))\n",
    "Y2 = mdct4(X[50:150] * kaiser_bessel_derived(100, beta=16))\n",
    "Z1 = imdct4(Y1) * kaiser_bessel_derived(100, beta=16)\n",
    "Z2 = imdct4(Y2) * kaiser_bessel_derived(100, beta=16)\n",
    "print(np.linalg.norm(Z1[50:100] + Z2[:50] - 2*X[50:100])) # should be about 0\n",
    "print(Z1[50:100] + Z2[:50] - 2*X[50:100]) # should be about 0"
   ]
  },
  {
   "cell_type": "code",
   "execution_count": null,
   "metadata": {},
   "outputs": [],
   "source": []
  }
 ],
 "metadata": {
  "kernelspec": {
   "display_name": "Python 3.10.6 ('kitchensink')",
   "language": "python",
   "name": "python3"
  },
  "language_info": {
   "codemirror_mode": {
    "name": "ipython",
    "version": 3
   },
   "file_extension": ".py",
   "mimetype": "text/x-python",
   "name": "python",
   "nbconvert_exporter": "python",
   "pygments_lexer": "ipython3",
   "version": "3.10.8 (main, Nov 24 2022, 14:13:03) [GCC 11.2.0]"
  },
  "orig_nbformat": 4,
  "vscode": {
   "interpreter": {
    "hash": "819d2b5ed41cc2fe1270abeefe3e445ccd6d159a3be5412e6db9c2a5efad0c24"
   }
  }
 },
 "nbformat": 4,
 "nbformat_minor": 2
}
