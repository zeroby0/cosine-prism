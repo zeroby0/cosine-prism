{
 "cells": [
  {
   "cell_type": "markdown",
   "metadata": {},
   "source": [
    "# Gaborish\n",
    "\n",
    "Sharpen DCT edges before encoding, and smoothen them post decoding."
   ]
  },
  {
   "cell_type": "code",
   "execution_count": 1,
   "metadata": {},
   "outputs": [],
   "source": [
    "import numpy as np\n",
    "from PIL import Image\n",
    "from scipy.fft import dctn, idctn\n",
    "from matplotlib import pylab as pylab\n",
    "from matplotlib import pyplot as plt\n",
    "\n",
    "# %matplotlib inline\n",
    "pylab.rcParams['figure.figsize'] = (8, 8)\n"
   ]
  },
  {
   "cell_type": "code",
   "execution_count": 2,
   "metadata": {},
   "outputs": [],
   "source": [
    "y, cb, cr = Image.open('images/earth-1024.png').convert('YCbCr').split()"
   ]
  },
  {
   "cell_type": "code",
   "execution_count": 3,
   "metadata": {},
   "outputs": [],
   "source": [
    "im = np.array(y)\n",
    "im = im[:im.shape[0] - im.shape[0]%8, :im.shape[1] - im.shape[1]%8]"
   ]
  },
  {
   "cell_type": "code",
   "execution_count": 4,
   "metadata": {},
   "outputs": [],
   "source": [
    "dct = np.zeros((int(im.size / 64), 64))\n",
    "row = 0\n",
    "\n",
    "for i in np.r_[:im.shape[0]:8]:\n",
    "    for j in np.r_[:im.shape[1]:8]:\n",
    "        dct[row] = dctn(im[i:(i+8), j:(j+8)], axes=[0, 1], norm='ortho').ravel()\n",
    "        row += 1"
   ]
  },
  {
   "cell_type": "code",
   "execution_count": 5,
   "metadata": {},
   "outputs": [],
   "source": [
    "# Reconstruct Image from ravelled DCTS\n",
    "def dct_to_image(dct_recv, shape,):\n",
    "    im_recv = np.zeros(shape)\n",
    "    row = 0\n",
    "\n",
    "    for i in np.r_[:im.shape[0]:8]:\n",
    "        for j in np.r_[:im.shape[1]:8]:\n",
    "            im_recv[i:(i+8),j:(j+8)] = idctn(dct_recv[row].reshape((8, 8)), axes=[0, 1], norm='ortho')\n",
    "            row += 1\n",
    "\n",
    "    return im_recv"
   ]
  },
  {
   "cell_type": "code",
   "execution_count": 6,
   "metadata": {},
   "outputs": [],
   "source": [
    "dct_indices = [  0,  1,  8, 16,  9,  2,  3, 10,\n",
    "                 17, 24, 32, 25, 18, 11,  4,  5, \n",
    "                 12, 19, 26, 33, 40, 48, 41, 34,\n",
    "                 27, 20, 13,  6,  7, 14, 21, 28,\n",
    "                 35, 42, 49, 56, 57, 50, 43, 36,\n",
    "                 29, 22, 15, 23, 30, 37, 44, 51,\n",
    "                 58, 59, 52, 45, 38, 31, 39, 46, \n",
    "                 53, 60, 61, 54, 47, 55, 62, 63,\n",
    "]"
   ]
  },
  {
   "cell_type": "code",
   "execution_count": 7,
   "metadata": {},
   "outputs": [],
   "source": [
    "dct_recv = np.zeros((int(im.size / 64), 64))\n",
    "\n",
    "count = 0\n",
    "for i in dct_indices:\n",
    "    dct_recv[:, i] = dct[:, i]\n",
    "    im_recv = dct_to_image(dct_recv, im.shape)\n",
    "    plt.imsave(f'animation/{count}.png', im_recv, cmap='gray')\n",
    "    count += 1"
   ]
  },
  {
   "cell_type": "code",
   "execution_count": 8,
   "metadata": {},
   "outputs": [],
   "source": [
    "# f = plt.figure()\n",
    "# plt.title(\"Image as more DCTs arrive\")\n",
    "\n",
    "# from IPython import display\n",
    "\n",
    "# dct_recv = np.zeros((int(im.size / 64), 64))\n",
    "\n",
    "# count = 0\n",
    "# for i in dct_indices:\n",
    "#     plt.title(f\"Image as more DCTs arrive {count+1}/64\")\n",
    "\n",
    "#     dct_recv[:, i] = dct[:, i]\n",
    "#     im_recv = dct_to_image(dct_recv, im.shape)\n",
    "#     plt.imshow(im_recv, cmap='gray')\n",
    "\n",
    "#     display.clear_output(wait=True)\n",
    "#     display.display(plt.gcf())\n",
    "\n",
    "#     count += 1"
   ]
  }
 ],
 "metadata": {
  "kernelspec": {
   "display_name": "Python 3.10.6 ('kitchensink')",
   "language": "python",
   "name": "python3"
  },
  "language_info": {
   "codemirror_mode": {
    "name": "ipython",
    "version": 3
   },
   "file_extension": ".py",
   "mimetype": "text/x-python",
   "name": "python",
   "nbconvert_exporter": "python",
   "pygments_lexer": "ipython3",
   "version": "3.10.8 (main, Nov 24 2022, 14:13:03) [GCC 11.2.0]"
  },
  "orig_nbformat": 4,
  "vscode": {
   "interpreter": {
    "hash": "819d2b5ed41cc2fe1270abeefe3e445ccd6d159a3be5412e6db9c2a5efad0c24"
   }
  }
 },
 "nbformat": 4,
 "nbformat_minor": 2
}
