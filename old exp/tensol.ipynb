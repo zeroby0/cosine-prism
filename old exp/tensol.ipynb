{
 "cells": [
  {
   "cell_type": "code",
   "execution_count": 1,
   "metadata": {},
   "outputs": [
    {
     "name": "stderr",
     "output_type": "stream",
     "text": [
      "2022-12-09 12:27:04.372378: I tensorflow/core/platform/cpu_feature_guard.cc:193] This TensorFlow binary is optimized with oneAPI Deep Neural Network Library (oneDNN) to use the following CPU instructions in performance-critical operations:  SSE4.1 SSE4.2 AVX AVX2 FMA\n",
      "To enable them in other operations, rebuild TensorFlow with the appropriate compiler flags.\n"
     ]
    }
   ],
   "source": [
    "import numpy as np\n",
    "\n",
    "from tensorflow.signal import mdct, inverse_mdct, kaiser_bessel_derived_window"
   ]
  },
  {
   "cell_type": "code",
   "execution_count": null,
   "metadata": {},
   "outputs": [],
   "source": [
    "X = np.random.rand(1000)\n",
    "Y1 = mdct(X[:100])\n",
    "Y2 = mdct(X[50:150])\n",
    "Z1 = inverse_mdct(Y1)\n",
    "Z2 = inverse_mdct(Y2)\n",
    "print(np.linalg.norm(Z1[50:100] + Z2[:50] - 2*X[50:100]))"
   ]
  },
  {
   "cell_type": "code",
   "execution_count": 9,
   "metadata": {},
   "outputs": [],
   "source": [
    "x = np.random.rand(64)\n",
    "\n",
    "y = mdct(\n",
    "    signals=x,\n",
    "    frame_length=16,\n",
    "    window_fn=None,\n",
    "    pad_end=False,\n",
    "    norm='ortho',\n",
    "    name='mdct'\n",
    ")\n",
    "\n",
    "z = inverse_mdct(\n",
    "    signals=x,\n",
    "    frame_length=16,\n",
    "    window_fn=kaiser_bessel_derived_window,\n",
    "    pad_end=False,\n",
    "    norm='ortho',\n",
    "    name='mdct'\n",
    ")\n",
    "\n",
    "\n"
   ]
  },
  {
   "cell_type": "code",
   "execution_count": null,
   "metadata": {},
   "outputs": [],
   "source": [
    "x = np.arange(16)\n",
    "\n",
    "y = mdct(\n",
    "    signals=x,\n",
    "    frame_length=16,\n",
    "    \n",
    ")"
   ]
  },
  {
   "cell_type": "code",
   "execution_count": null,
   "metadata": {},
   "outputs": [],
   "source": []
  }
 ],
 "metadata": {
  "kernelspec": {
   "display_name": "Python 3.10.6 ('kitchensink')",
   "language": "python",
   "name": "python3"
  },
  "language_info": {
   "codemirror_mode": {
    "name": "ipython",
    "version": 3
   },
   "file_extension": ".py",
   "mimetype": "text/x-python",
   "name": "python",
   "nbconvert_exporter": "python",
   "pygments_lexer": "ipython3",
   "version": "3.10.8"
  },
  "orig_nbformat": 4,
  "vscode": {
   "interpreter": {
    "hash": "819d2b5ed41cc2fe1270abeefe3e445ccd6d159a3be5412e6db9c2a5efad0c24"
   }
  }
 },
 "nbformat": 4,
 "nbformat_minor": 2
}
