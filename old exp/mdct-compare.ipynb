{
 "cells": [
  {
   "cell_type": "code",
   "execution_count": 1,
   "metadata": {},
   "outputs": [],
   "source": [
    "import numpy as np\n",
    "from PIL import Image\n",
    "from scipy.fft import dct, idct\n",
    "from matplotlib import pylab as pylab\n",
    "from matplotlib import pyplot as plt\n",
    "\n",
    "%matplotlib inline\n",
    "pylab.rcParams['figure.figsize'] = (8, 8)"
   ]
  },
  {
   "cell_type": "code",
   "execution_count": 2,
   "metadata": {},
   "outputs": [],
   "source": [
    "def mdct4(x):\n",
    "    N = x.shape[0]\n",
    "    if N%4 != 0:\n",
    "        raise ValueError(\"MDCT4 only defined for vectors of length multiple of four.\")\n",
    "    M = N // 2\n",
    "    N4 = N // 4\n",
    "    \n",
    "    rot = np.roll(x, N4)\n",
    "    rot[:N4] = -rot[:N4]\n",
    "    t = np.arange(0, N4)\n",
    "    w = np.exp(-1j*2*np.pi*(t + 1./8.) / N)\n",
    "    c = np.take(rot,2*t) - np.take(rot, N-2*t-1) \\\n",
    "        - 1j * (np.take(rot, M+2*t) - np.take(rot,M-2*t-1))\n",
    "    c = (2./np.sqrt(N)) * w * np.fft.fft(0.5 * c * w, N4)\n",
    "    y = np.zeros(M)\n",
    "    y[2*t] = np.real(c[t])\n",
    "    y[M-2*t-1] = -np.imag(c[t])\n",
    "    return y\n",
    "\n",
    "def imdct4(x):\n",
    "    N = x.shape[0]\n",
    "    if N%2 != 0:\n",
    "        raise ValueError(\"iMDCT4 only defined for even-length vectors.\")\n",
    "    M = N // 2\n",
    "    N2 = N*2\n",
    "    \n",
    "    t = np.arange(0,M)\n",
    "    w = np.exp(-1j*2*np.pi*(t + 1./8.) / N2)\n",
    "    c = np.take(x,2*t) + 1j * np.take(x,N-2*t-1)\n",
    "    c = 0.5 * w * c\n",
    "    c = np.fft.fft(c,M)\n",
    "    c = ((8 / np.sqrt(N2))*w)*c\n",
    "    \n",
    "    rot = np.zeros(N2)\n",
    "    \n",
    "    rot[2*t] = np.real(c[t])\n",
    "    rot[N+2*t] = np.imag(c[t])\n",
    "    \n",
    "    t = np.arange(1,N2,2)\n",
    "    rot[t] = -rot[N2-t-1]\n",
    "    \n",
    "    t = np.arange(0,3*M)\n",
    "    y = np.zeros(N2)\n",
    "    y[t] = rot[t+M]\n",
    "    t = np.arange(3*M,N2)\n",
    "    y[t] = -rot[t-3*M]\n",
    "    return y"
   ]
  },
  {
   "cell_type": "code",
   "execution_count": 32,
   "metadata": {},
   "outputs": [],
   "source": [
    "def mdct(x):\n",
    "    N = x.shape[0]\n",
    "\n",
    "    if N%4 != 0:\n",
    "        raise ValueError(\"MDCT4 only defined for vectors of length multiple of four.\")\n",
    "\n",
    "    N4 = N // 4\n",
    "\n",
    "    a = x[0*N4:1*N4]\n",
    "    b = x[1*N4:2*N4]\n",
    "    c = x[2*N4:3*N4]\n",
    "    d = x[3*N4:4*N4]\n",
    "\n",
    "    br = np.flip(b)\n",
    "    cr = np.flip(c)\n",
    "\n",
    "    return dct(np.hstack([-cr - d, a - br]), type=4, norm='ortho', orthogonalize=True) / 2\n",
    "\n",
    "\n",
    "def imdct(y):\n",
    "    N = y.shape[0] * 2\n",
    "\n",
    "    if N%4 != 0:\n",
    "        raise ValueError(\"IMDCT is only defined for vectors lengths multiple of two.\")\n",
    "    \n",
    "    N4 = N // 4\n",
    "\n",
    "    z = idct(y, type=4, norm='ortho', orthogonalize=True)\n",
    "\n",
    "    z = np.hstack([z, -np.flip(z), -z]) * 2\n",
    "\n",
    "    return z[N4:5*N//4]"
   ]
  },
  {
   "cell_type": "code",
   "execution_count": 37,
   "metadata": {},
   "outputs": [
    {
     "name": "stdout",
     "output_type": "stream",
     "text": [
      "86 µs ± 1.06 µs per loop (mean ± std. dev. of 7 runs, 10,000 loops each)\n",
      "22.5 µs ± 383 ns per loop (mean ± std. dev. of 7 runs, 10,000 loops each)\n"
     ]
    }
   ],
   "source": [
    "x=np.arange(1600)\n",
    "\n",
    "%timeit mdct4(x)\n",
    "%timeit mdct(x)"
   ]
  },
  {
   "cell_type": "code",
   "execution_count": null,
   "metadata": {},
   "outputs": [],
   "source": []
  }
 ],
 "metadata": {
  "kernelspec": {
   "display_name": "Python 3.10.8 ('kitchensink')",
   "language": "python",
   "name": "python3"
  },
  "language_info": {
   "codemirror_mode": {
    "name": "ipython",
    "version": 3
   },
   "file_extension": ".py",
   "mimetype": "text/x-python",
   "name": "python",
   "nbconvert_exporter": "python",
   "pygments_lexer": "ipython3",
   "version": "3.10.8"
  },
  "orig_nbformat": 4,
  "vscode": {
   "interpreter": {
    "hash": "819d2b5ed41cc2fe1270abeefe3e445ccd6d159a3be5412e6db9c2a5efad0c24"
   }
  }
 },
 "nbformat": 4,
 "nbformat_minor": 2
}
